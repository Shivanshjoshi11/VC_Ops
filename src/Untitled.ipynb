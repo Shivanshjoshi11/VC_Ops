{
 "cells": [
  {
   "cell_type": "code",
   "execution_count": null,
   "id": "20da07d8-8351-43e8-beda-1ca83822fead",
   "metadata": {},
   "outputs": [],
   "source": [
    "import cv2, numpy, os"
   ]
  },
  {
   "cell_type": "code",
   "execution_count": 3,
   "id": "ddb646c0-38fd-46c5-bf70-04aad14363ab",
   "metadata": {},
   "outputs": [],
   "source": [
    "# haar_file = 'haarcascade_frontalface_default.xml'"
   ]
  },
  {
   "cell_type": "code",
   "execution_count": 4,
   "id": "db04a9ec-3925-4f94-984b-56276669f19a",
   "metadata": {},
   "outputs": [],
   "source": [
    "datasets = 'image_collection/datasets'  \n",
    "sub_data = 'sample'\n",
    "path = os.path.join(datasets, sub_data)"
   ]
  },
  {
   "cell_type": "code",
   "execution_count": 5,
   "id": "7e705bbb-3b72-4914-82e1-3c97d9f3963c",
   "metadata": {},
   "outputs": [],
   "source": [
    "(width, height) = (130, 100)\n",
    "face_cascade = cv2.CascadeClassifier(cv2.data.haarcascades + 'haarcascade_frontalface_default.xml')\n",
    "webcam = cv2.VideoCapture(0)"
   ]
  },
  {
   "cell_type": "code",
   "execution_count": null,
   "id": "cc997fc6-efb0-4f77-848e-28ea1b36fca1",
   "metadata": {},
   "outputs": [],
   "source": [
    "count = 1\n",
    "while count < 30: \n",
    "    (_, im) = webcam.read()\n",
    "    gray = cv2.cvtColor(im, cv2.COLOR_BGR2GRAY)\n",
    "    faces = face_cascade.detectMultiScale(\n",
    "        gray,\n",
    "        scaleFactor = 1.3,\n",
    "        minNeighbors = 5\n",
    "    )\n",
    "    for (x, y, w, h) in faces:\n",
    "        cv2.rectangle(im, (x, y), (x + w, y + h), (255, 0, 0), 2)\n",
    "        face = gray[y:y + h, x:x + w]\n",
    "        face_resize = cv2.resize(face, (width, height))\n",
    "        cv2.imwrite('% s/% s.png' % (path, count), face_resize)\n",
    "    count += 1\n",
    "      \n",
    "    cv2.imshow('OpenCV', im)\n",
    "    key = cv2.waitKey(10)\n",
    "    if key == 27:\n",
    "        break"
   ]
  },
  {
   "cell_type": "code",
   "execution_count": null,
   "id": "4fa63a87-09a3-4946-be8c-6ec82f065218",
   "metadata": {},
   "outputs": [],
   "source": []
  }
 ],
 "metadata": {
  "kernelspec": {
   "display_name": "image_collection",
   "language": "python",
   "name": "image_collection"
  },
  "language_info": {
   "codemirror_mode": {
    "name": "ipython",
    "version": 3
   },
   "file_extension": ".py",
   "mimetype": "text/x-python",
   "name": "python",
   "nbconvert_exporter": "python",
   "pygments_lexer": "ipython3",
   "version": "3.11.3"
  }
 },
 "nbformat": 4,
 "nbformat_minor": 5
}
